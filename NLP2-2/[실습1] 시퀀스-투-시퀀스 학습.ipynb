{
  "cells": [
    {
      "cell_type": "markdown",
      "metadata": {
        "id": "XsHTQVECT_5r"
      },
      "source": [
        "## [실습1] 시퀀스-투-시퀀스 학습"
      ]
    },
    {
      "cell_type": "markdown",
      "metadata": {
        "id": "EUSuJFgsh_mf"
      },
      "source": [
        "영어-스페인어 기계 번역과 영어-한국어 기계 번역을 작은 데이터셋을 이용하여 훈련시켜본다."
      ]
    },
    {
      "cell_type": "markdown",
      "metadata": {
        "id": "8kRw8L0jT_5r"
      },
      "source": [
        "### 영어-스페인어 기계 번역"
      ]
    },
    {
      "cell_type": "markdown",
      "metadata": {
        "id": "pcxuMxYWh_mj"
      },
      "source": [
        "**텍스트 데이터셋 다운로드**"
      ]
    },
    {
      "cell_type": "markdown",
      "metadata": {
        "id": "onFT02Hfh_mj"
      },
      "source": [
        "영어와 스페인어 텍스트가 담긴 압축 파일을 다운로드 한 후에 압축을 풀면\n",
        "\"spa.txt\" 파일이 생성된다."
      ]
    },
    {
      "cell_type": "code",
      "execution_count": null,
      "metadata": {
        "colab": {
          "base_uri": "https://localhost:8080/"
        },
        "id": "A4zqvFdKT_5r",
        "outputId": "1e97f4d7-d743-45d0-d29f-d94872e59484"
      },
      "outputs": [],
      "source": [
        "!wget https://www.manythings.org/anki/spa-eng.zip\n",
        "!unzip -q spa-eng.zip"
      ]
    },
    {
      "cell_type": "markdown",
      "metadata": {
        "id": "1bpWMDbWh_mj"
      },
      "source": [
        "\"spa.txt\" 파일은 각각의 줄은 아래와 같이 영어 텍스트, 스페인어 텍스트, 기타 정보가 탭(tab) 키로 구분되어 있다.\n",
        "\n",
        "```\n",
        "Finally, it's Friday.\tAl fin es viernes.\tCC-BY 2.0 (France) Attribution: tatoeba.org #433868 (CK) & #1427385 (marcelostockle)\n",
        "```"
      ]
    },
    {
      "cell_type": "markdown",
      "metadata": {
        "id": "jbW-WNK0h_mj"
      },
      "source": [
        "아래 코드는 \"spa.txt\"에 포함된 각 줄의 내용을 항목으로 갖는 리스트인 `text_pairs`를 생성한다.\n",
        "단 각 항목은 (영어 텍스트, 스페인어 텍스트)로 구성된 튜플이며, 각각의 줄에 포함된 기타 정보는 버린다.\n",
        "또한 스페인어 텍스트의 처음과 끝에 각각 `'[start] '` 와 `' [end]'`를 추가한다."
      ]
    },
    {
      "cell_type": "code",
      "execution_count": null,
      "metadata": {
        "id": "adbnHDocT_5r"
      },
      "outputs": [],
      "source": [
        "text_file = \"spa.txt\"\n",
        "with open(text_file) as f:\n",
        "    lines = f.read().split(\"\\n\")[:-1]\n",
        "\n",
        "text_pairs = []\n",
        "for line in lines:\n",
        "    english, spanish, _ = line.split(\"\\t\")\n",
        "    spanish = \"[start] \" + spanish + \" [end]\"\n",
        "    text_pairs.append((english, spanish))"
      ]
    },
    {
      "cell_type": "markdown",
      "metadata": {
        "id": "kzJIGT5hh_mj"
      },
      "source": [
        "`text_pairs`에 포함된 임의의 항목을 확인하면 다음과 같다."
      ]
    },
    {
      "cell_type": "code",
      "execution_count": null,
      "metadata": {
        "colab": {
          "base_uri": "https://localhost:8080/"
        },
        "id": "BN_IurD9T_5s",
        "outputId": "9f1afe71-546f-4b11-ec09-f2eb089174ef"
      },
      "outputs": [],
      "source": [
        "import random\n",
        "\n",
        "print(random.choice(text_pairs))"
      ]
    },
    {
      "cell_type": "markdown",
      "metadata": {
        "id": "zrVUHpZwh_mk"
      },
      "source": [
        "아래 코드는 텍스트를 무작위 섞은 다음\n",
        "70 대 15 대 15의 비율로 훈련 텍스트셋, 검증 텍스트셋, 테스트 텍스트셋으로 나눈다."
      ]
    },
    {
      "cell_type": "code",
      "execution_count": null,
      "metadata": {
        "id": "kK2mwr96T_5s"
      },
      "outputs": [],
      "source": [
        "random.shuffle(text_pairs)\n",
        "\n",
        "# 검증셋 크기: 전체 데이터셋의 15%\n",
        "num_val_samples = int(0.15 * len(text_pairs))\n",
        "# 훈련셋 크기: 전체 데이터셋의 70%\n",
        "num_train_samples = len(text_pairs) - 2 * num_val_samples\n",
        "\n",
        "# 훈련 텍스트셋\n",
        "train_pairs = text_pairs[:num_train_samples]\n",
        "# 검증 텍스트셋\n",
        "val_pairs = text_pairs[num_train_samples:num_train_samples + num_val_samples]\n",
        "# 테스트 텍스트셋\n",
        "test_pairs = text_pairs[num_train_samples + num_val_samples:]"
      ]
    },
    {
      "cell_type": "markdown",
      "metadata": {
        "id": "AuqUCPshT_5s"
      },
      "source": [
        "**영어/스페인어 텍스트 벡터화**"
      ]
    },
    {
      "cell_type": "markdown",
      "metadata": {
        "id": "mvKYmmNZh_mk"
      },
      "source": [
        "자연어로 구성된 훈련 텍스트 데이터셋을 대상으로 어휘 인덱스를 생성한 후에 텍스트 벡터화를 진행한다.\n",
        "먼저 영어 어휘집을 생성한다.\n",
        "생성되는 어휘 벡터의 길이를 20으로 지정한다."
      ]
    },
    {
      "cell_type": "code",
      "execution_count": null,
      "metadata": {
        "id": "V8CWdFJIT_5t"
      },
      "outputs": [],
      "source": [
        "import tensorflow as tf\n",
        "from tensorflow import keras\n",
        "from tensorflow.keras import layers\n",
        "\n",
        "vocab_size = 15000\n",
        "sequence_length = 20\n",
        "\n",
        "# 번역 대상 언어(예를 들어 영어) 텍스트 데이터셋 벡터화 층\n",
        "source_vectorization = layers.TextVectorization(\n",
        "    max_tokens=vocab_size,\n",
        "    output_mode=\"int\",\n",
        "    output_sequence_length=sequence_length,\n",
        ")\n",
        "\n",
        "# 영어 텍스트만 추출\n",
        "train_english_texts = [pair[0] for pair in train_pairs]\n",
        "# 영어 어휘집 생성\n",
        "source_vectorization.adapt(train_english_texts)"
      ]
    },
    {
      "cell_type": "markdown",
      "metadata": {
        "id": "oCqe3UYBh_mk"
      },
      "source": [
        "스페인어 텍스트 벡터화는 영어와는 다른 표준화 방식을 사용한다.\n",
        "\n",
        "- 영어에는 없는 `'¿'` 기호도 표준화 과정에서 삭제\n",
        "- 반면에 `'['`와 `']'`는 표준화 과정에서 제거되지 않도록 지정\n",
        "\n",
        "또한 생성되는 어휘 벡터의 길이를 21로 지정한다.\n",
        "그러면 0번 인덱스부터 19번 인덱스까지는 입력값으로,\n",
        "1번 인덱스부터 20번 인덱스까지는 타깃으로 지정할 수 있다."
      ]
    },
    {
      "cell_type": "code",
      "execution_count": null,
      "metadata": {
        "id": "y_c1NpoVh_mk"
      },
      "outputs": [],
      "source": [
        "import string\n",
        "import re\n",
        "\n",
        "# 마침표 기호 목록에 \"¿\" 추가. 즉 표준화과정에서 삭제 대상으로 지정.\n",
        "strip_chars = string.punctuation + \"¿\"\n",
        "# 마침표 기호 목록으로부터 \"[\" 와 \"]\" 제거. 즉, 표준화 대상에서 삭제하지 않도록 함.\n",
        "strip_chars = strip_chars.replace(\"[\", \"\")\n",
        "strip_chars = strip_chars.replace(\"]\", \"\")\n",
        "\n",
        "# 새로운 표준화 함수 선언\n",
        "# 소문자로 변환한 후에 strip_chars 에 포함된 모든 기호 삭제\n",
        "def custom_standardization(input_string):\n",
        "    lowercase = tf.strings.lower(input_string)\n",
        "    return tf.strings.regex_replace(\n",
        "        lowercase, f\"[{re.escape(strip_chars)}]\", \"\")\n",
        "\n",
        "# 번역 언어 (예를 들어 스페인어) 텍스트 데이터셋 벡터화 층\n",
        "# 벡터의 길이를 20이 아닌 21로 지정. 입력값과 타깃을 구분하기 위해 필요함.\n",
        "target_vectorization = layers.TextVectorization(\n",
        "    max_tokens=vocab_size,\n",
        "    output_mode=\"int\",\n",
        "    output_sequence_length=sequence_length + 1,\n",
        "    standardize=custom_standardization,\n",
        ")\n",
        "\n",
        "# 스페인어 텍스트만 추출\n",
        "train_spanish_texts = [pair[1] for pair in train_pairs]\n",
        "# 스페인어 어휘집 생성\n",
        "target_vectorization.adapt(train_spanish_texts)"
      ]
    },
    {
      "cell_type": "markdown",
      "metadata": {
        "id": "B7HeM8qPT_5t"
      },
      "source": [
        "훈련 텍스트셋, 검증 텍스트셋, 테스트 텍스트셋을 모두 어휘 인덱스를 이용하여 벡터화 한다."
      ]
    },
    {
      "cell_type": "markdown",
      "metadata": {
        "id": "5BKmph6Yh_ml"
      },
      "source": [
        "아래 코드는 생성된 영어와 스페인어 어휘 인덱스를 이용하여 각각의 텍스트 데이터셋을\n",
        "벡터화 한 다음에 아래 모양의 튜플로 구성된 훈련셋, 검증셋, 테스트셋을 생성한다.\n",
        "\n",
        "- 튜플의 첫째 항목: 영어 입력 배치와 스페인어 입력 배치로 구성된 사전. 모델의 입력값으로 사용.\n",
        "- 튜플의 둘째 항목: 타깃 배치. 모델 훈련의 타깃으로 사용.\n",
        "\n",
        "```\n",
        "({\"english\": 영어 입력 배치, \"spanish\": 스페인어 입력 배치}, 타깃 배치)\n",
        "```\n",
        "\n",
        "- `format_dataset()` 함수\n",
        "    - 인자: 영어 텍스트 배치와 스페인어 텍스트 배치\n",
        "    - 반환값: 앞서 언급한 모양의 사전\n",
        "    \n",
        "- `make_dataset()` 함수\n",
        "    - 인자: `(영어 텍스트, 스페인어 텍스트)` 모양의 튜플로 구성된 자연어 텍스트 데이터셋\\\n",
        "    - 반환값: 지정된 배치 크기로 묶은 배치들에 대해 `format_dataset()` 함수를 적용하여\n",
        "        생성된 `Dataset` 자료형의 데이터셋. 배치 단위로 묶여 있음.\n",
        "        - `dataset.shuffle(2048).prefetch(16).cache()`: 대용량 데이터셋을 배치 단위로\n",
        "            빠르게 불러오기 위해 사용함.        "
      ]
    },
    {
      "cell_type": "code",
      "execution_count": null,
      "metadata": {
        "id": "XEgEfPpqT_5t"
      },
      "outputs": [],
      "source": [
        "batch_size = 64\n",
        "\n",
        "def format_dataset(eng, spa):\n",
        "    eng = source_vectorization(eng)\n",
        "    spa = target_vectorization(spa)\n",
        "    return ({\"english\": eng, \"spanish\": spa[:, :-1]}, spa[:, 1:])\n",
        "\n",
        "def make_dataset(pairs):\n",
        "    eng_texts, spa_texts = zip(*pairs)\n",
        "    eng_texts = list(eng_texts)\n",
        "    spa_texts = list(spa_texts)\n",
        "\n",
        "    dataset = tf.data.Dataset.from_tensor_slices((eng_texts, spa_texts))\n",
        "    dataset = dataset.batch(batch_size)\n",
        "\n",
        "    dataset = dataset.map(format_dataset)\n",
        "\n",
        "    return dataset.shuffle(2048).prefetch(16).cache()\n",
        "\n",
        "# 훈련셋\n",
        "train_ds = make_dataset(train_pairs)\n",
        "# 검증셋\n",
        "val_ds = make_dataset(val_pairs)\n",
        "# 테스트셋\n",
        "test_ds = make_dataset(test_pairs)"
      ]
    },
    {
      "cell_type": "markdown",
      "metadata": {
        "id": "Rh4ypb8Mh_ml"
      },
      "source": [
        "예를 들어 훈련셋의 첫째 배치의 모양을 확인하면 다음과 같다.\n",
        "\n",
        "- 영어 입력 배치: 길이가 20인 64개의 벡터로 구성. 즉, 20 개의 단어로 구성된 영어 텍스트 64개로 구성됨.\n",
        "- 스페인어 입력 배치: 길이가 20인 64개의 벡터로 구성. 즉, 20 개의 단어로 구성된 스페인어 텍스트 64개로 구성됨.\n",
        "- 타깃 배치: 길이가 20인 64개의 벡터로 구성. 즉, 20 개의 단어로 구성된 스페인어 텍스트 64개로 구성됨."
      ]
    },
    {
      "cell_type": "code",
      "execution_count": null,
      "metadata": {
        "colab": {
          "base_uri": "https://localhost:8080/"
        },
        "id": "tvL9A1MQT_5t",
        "outputId": "1db6f2f6-6ba9-406d-80f6-adc0ae681426"
      },
      "outputs": [],
      "source": [
        "for inputs, targets in train_ds.take(1):\n",
        "    print(f\"inputs['english'].shape: {inputs['english'].shape}\")\n",
        "    print(f\"inputs['spanish'].shape: {inputs['spanish'].shape}\")\n",
        "    print(f\"targets.shape: {targets.shape}\")"
      ]
    },
    {
      "cell_type": "markdown",
      "metadata": {
        "id": "2zyx_f6mh_ml"
      },
      "source": [
        "아래 코드는 첫째 샘플의 영어 벡터, 스페인어 벡터, 타깃을 보여준다.\n",
        "스페인어 입력 벡터 샘플의 0번 인덱스에 위치한 정수 2가 `'[start]'`에 해당하는 값이다.\n",
        "스페인어 타깃 벡터 샘플은 그 값을 제외한 벡터로 시작함을 확인할 수 있다.\n",
        "또한 정수 3은 `'[end]'`에 해당하는 값이며, 문장의 끝을 가리키기에\n",
        "스페인어 타깃 벡터 샘플에 새로운 단어에 해당하는 인덱스를 추가하지 않고 대신 0 패딩이 하나 더 추가되었다."
      ]
    },
    {
      "cell_type": "code",
      "execution_count": null,
      "metadata": {
        "colab": {
          "base_uri": "https://localhost:8080/"
        },
        "id": "F95a5ms4h_ml",
        "outputId": "1db6f2f6-6ba9-406d-80f6-adc0ae681426"
      },
      "outputs": [],
      "source": [
        "for inputs, targets in train_ds.take(1):\n",
        "    print(f\"영어 입력 벡터 샘플: {inputs['english'][0]}\")\n",
        "    print(f\"스페인어 입력 벡터 샘플: {inputs['spanish'][0]}\")\n",
        "    print(f\"스페인어 타깃 샘플: {targets[0]}\")"
      ]
    },
    {
      "cell_type": "markdown",
      "metadata": {
        "id": "0JE4Oo1FT_5x"
      },
      "source": [
        "### 트랜스포머 디코더"
      ]
    },
    {
      "cell_type": "markdown",
      "metadata": {
        "id": "igiOWE0Rh_mn"
      },
      "source": [
        "트랜스포머 디코더를 하나의 층으로 구현하면 다음과 같다.\n",
        "생성자의 인자는 다음과 같다.\n",
        "\n",
        "- `embed_dim`: 예를 들어 `embed_dim=256`은 단어 임베딩 `(600, 256)` 모양의 샘플 생성\n",
        "- `dense_dim`: 밀집층에서 사용되는 유닛<font size='2'>unit</font> 개수\n",
        "- `num_heads`: 헤드<font size='2'>head</font> 개수\n",
        "\n",
        "`get_causal_attention_mask()` 메서드는 스페인어 입력 텍스트에 대한 마스크를 지정할 때 활용되지만\n",
        "여기서는 마스크를 사용하지 않는다.\n",
        "\n",
        "순전파를 담당하는 `call()` 메서드는 두 개의 어텐션 층을 사용한다.\n",
        "입력값으로는 스페인어 텍스트 배치 데이터셋과\n",
        "트랜스포머 디코더의 출력값으로 셀프 어텐션이 적용되어 변환된 영어 텍스트 배치 데이터셋이 사용된다.\n",
        "\n",
        "- `attention_1`: 스페인어 텍스트 입력값에 대해 셀프 어텐션 적용\n",
        "- `attention_2`: `attention_1` 의 출력값을 query로, 트랜스포머 인코더의 출력값을 key와 value로 사용해서 어텐션 적용.\n",
        "\n",
        "최종적으로 두 개의 밀집층을 통과시킨다.\n",
        "또한 하나의 블록을 통과시킬 때마다 잔차연결과 층정규화를 진행한다."
      ]
    },
    {
      "cell_type": "code",
      "execution_count": null,
      "metadata": {
        "id": "5I9kRgqdT_5x"
      },
      "outputs": [],
      "source": [
        "class TransformerDecoder(layers.Layer):\n",
        "    def __init__(self, embed_dim, dense_dim, num_heads, **kwargs):\n",
        "        super().__init__(**kwargs)\n",
        "        self.embed_dim = embed_dim\n",
        "        self.dense_dim = dense_dim\n",
        "        self.num_heads = num_heads\n",
        "        self.attention_1 = layers.MultiHeadAttention(\n",
        "            num_heads=num_heads, key_dim=embed_dim)\n",
        "        self.attention_2 = layers.MultiHeadAttention(\n",
        "            num_heads=num_heads, key_dim=embed_dim)\n",
        "        self.dense_proj = keras.Sequential(\n",
        "            [layers.Dense(dense_dim, activation=\"relu\"),\n",
        "             layers.Dense(embed_dim),]\n",
        "        )\n",
        "        self.layernorm_1 = layers.LayerNormalization()\n",
        "        self.layernorm_2 = layers.LayerNormalization()\n",
        "        self.layernorm_3 = layers.LayerNormalization()\n",
        "        self.supports_masking = True\n",
        "\n",
        "    def get_config(self):\n",
        "        config = super().get_config()\n",
        "        config.update({\n",
        "            \"embed_dim\": self.embed_dim,\n",
        "            \"num_heads\": self.num_heads,\n",
        "            \"dense_dim\": self.dense_dim,\n",
        "        })\n",
        "        return config\n",
        "\n",
        "    def get_causal_attention_mask(self, inputs):\n",
        "        input_shape = tf.shape(inputs)\n",
        "        batch_size, sequence_length = input_shape[0], input_shape[1]\n",
        "        i = tf.range(sequence_length)[:, tf.newaxis]\n",
        "        j = tf.range(sequence_length)\n",
        "        mask = tf.cast(i >= j, dtype=\"int32\")\n",
        "        mask = tf.reshape(mask, (1, input_shape[1], input_shape[1]))\n",
        "        mult = tf.concat(\n",
        "            [tf.expand_dims(batch_size, -1),\n",
        "             tf.constant([1, 1], dtype=tf.int32)], axis=0)\n",
        "        return tf.tile(mask, mult)\n",
        "\n",
        "    def call(self, inputs, encoder_outputs, mask=None):\n",
        "        # 마스크 활용\n",
        "        causal_mask = self.get_causal_attention_mask(inputs)\n",
        "        if mask is not None:\n",
        "            padding_mask = tf.cast(\n",
        "                mask[:, tf.newaxis, :], dtype=\"int32\")\n",
        "            padding_mask = tf.minimum(padding_mask, causal_mask)\n",
        "\n",
        "        # 셀프 어텐션 적용: 번역 언어(예를 들어 스페인어) 입력값 대상\n",
        "        attention_output_1 = self.attention_1(\n",
        "            query=inputs,\n",
        "            value=inputs,\n",
        "            key=inputs,\n",
        "            attention_mask=causal_mask)\n",
        "        attention_output_1 = self.layernorm_1(inputs + attention_output_1)\n",
        "        # 셀프 어텐션이 적용된 (예를 들어 스페인어) 입력 텍스트를 query로\n",
        "        # 셀프 어텐션이 적용된 번역 대상 (예를 들어 영어) 입력 텍스트를 key와 value로\n",
        "        # 지정하여 어텐션 적용\n",
        "        attention_output_2 = self.attention_2(\n",
        "            query=attention_output_1,\n",
        "            value=encoder_outputs,\n",
        "            key=encoder_outputs,\n",
        "            attention_mask=padding_mask,\n",
        "        )\n",
        "        attention_output_2 = self.layernorm_2(\n",
        "            attention_output_1 + attention_output_2)\n",
        "\n",
        "        proj_output = self.dense_proj(attention_output_2)\n",
        "\n",
        "        return self.layernorm_3(attention_output_2 + proj_output)"
      ]
    },
    {
      "cell_type": "markdown",
      "metadata": {
        "id": "0Yw8lS_QT_5y"
      },
      "source": [
        "### 기계 번역 모델"
      ]
    },
    {
      "cell_type": "markdown",
      "metadata": {
        "id": "N6Le1UYKh_mn"
      },
      "source": [
        "모델의 입력값은 앞서 설명한 대로 예를 들어 일정 길이로 단어 벡터화된 영어 텍스트 데이터셋과\n",
        "스페인어 텍스트 데이터셋의 튜플이다.\n",
        "스페인어 텍스트는 모두 `[start]` 로 시작하도록 전처리되어 있다.\n",
        "\n",
        "모델의 출력값은 예를 들어 출력 스페인어 텍스트로 지정될 단어들에 대한 위치별 확률값을 계산한다.\n",
        "아래 코드에서는 스페인어 텍스트에 포함될 20 개 단어들의 후보를 위치별로 확률값으로 계산한다.\n",
        "예를 들어 출력 텍스트의 i-번 인덱스에 위치할 단어의 확률값을 계산하기 위해\n",
        "어휘집에 포함된 15,000 개 단어를 대상으로 각각의 단어가 해당 위치에 자리할 확률을\n",
        "소프트맥스 함수를 이용하여 계산한다."
      ]
    },
    {
      "cell_type": "code",
      "execution_count": null,
      "metadata": {
        "id": "W5B1RqwgT_5y"
      },
      "outputs": [],
      "source": [
        "sequence_length = 20 # 텍스트의 단어수\n",
        "vocab_size = 15000 # 어휘집 크기\n",
        "embed_dim = 256    # 단어 임베딩 크기\n",
        "dense_dim = 2048   # 밀집층 유닛수\n",
        "num_heads = 8      # 어텐션 헤드수\n",
        "\n",
        "# 트랜스포머 인코더 활용\n",
        "\n",
        "# 첫째 입력값: 예를 들어 영어 텍스트셋\n",
        "encoder_inputs = keras.Input(shape=(None,), dtype=\"int64\", name=\"english\")\n",
        "x = PositionalEmbedding(sequence_length, vocab_size, embed_dim)(encoder_inputs)\n",
        "encoder_outputs = TransformerEncoder(embed_dim, dense_dim, num_heads)(x)\n",
        "\n",
        "# 트랜스포머 디코더 활용\n",
        "\n",
        "# 둘째 입력값: 예를 들어 스페인어 텍스트셋\n",
        "decoder_inputs = keras.Input(shape=(None,), dtype=\"int64\", name=\"spanish\")\n",
        "x = PositionalEmbedding(sequence_length, vocab_size, embed_dim)(decoder_inputs)\n",
        "x = TransformerDecoder(embed_dim, dense_dim, num_heads)(x, encoder_outputs)\n",
        "\n",
        "x = layers.Dropout(0.5)(x)\n",
        "decoder_outputs = layers.Dense(vocab_size, activation=\"softmax\")(x)\n",
        "\n",
        "transformer = keras.Model([encoder_inputs, decoder_inputs], decoder_outputs)"
      ]
    },
    {
      "cell_type": "markdown",
      "metadata": {
        "id": "I53wCz6AT_5y"
      },
      "source": [
        "**모델 훈련과 활용**"
      ]
    },
    {
      "cell_type": "markdown",
      "metadata": {
        "id": "m97D2Hhhh_mn"
      },
      "source": [
        "모델의 최종 출력값이 소프트맥스를 사용하여\n",
        "`(20, 15000)` 모양을 갖는 반면에\n",
        "타깃셋은 20 개의 어휘 인덱스로 구성된 벡터로 구성되기에\n",
        "`categorical_crossentropy` 가 아닌 `sparse_categorical_crossentropy`를\n",
        "손실함수로 지정한다.\n",
        "그러면 20개 단어 각각에 대해 가장 높은 확률을 갖는 (어휘) 인덱스에 해당하는 단어가\n",
        "15,000 개 중에 선택되어 타깃 단어와 비교된다."
      ]
    },
    {
      "cell_type": "code",
      "execution_count": null,
      "metadata": {
        "colab": {
          "base_uri": "https://localhost:8080/"
        },
        "id": "ZdbYo16QT_5y",
        "outputId": "494e1652-1a0f-440d-ec67-d77a613ed071"
      },
      "outputs": [],
      "source": [
        "transformer.compile(\n",
        "    optimizer=\"rmsprop\",\n",
        "    loss=\"sparse_categorical_crossentropy\",\n",
        "    metrics=[\"accuracy\"])\n",
        "\n",
        "transformer.fit(train_ds, epochs=30, validation_data=val_ds)"
      ]
    },
    {
      "cell_type": "markdown",
      "metadata": {
        "id": "V_2veTqxT_5y"
      },
      "source": [
        "아래 `decode_sequence()`는 함수는 영어 텍스트가 하나 입력되면\n",
        "앞서 훈련된 트랜스포머 모델을 이용하여 지정된 길이인 20 개의 단어로\n",
        "구성된 스페인어 텍스트를 생성한다.\n",
        "\n",
        "함수 본문에 포함된 `for` 반복문은\n",
        "**트랜스포머 모델 활용** 부분에서 설명한 방식 그대로\n",
        "`[start]`로만 구성된 텍스트로 시작해서\n",
        "계속해서 텍스트에 추가할 단어를 하나씩 선택해서 이어가는 과정을\n",
        "`[end]` 키워드가 나올 때까지 반복한다.\n",
        "단, 반복횟수는 20으로 제한한다."
      ]
    },
    {
      "cell_type": "code",
      "execution_count": null,
      "metadata": {
        "id": "gtl4ic-tT_5y"
      },
      "outputs": [],
      "source": [
        "import numpy as np\n",
        "\n",
        "# 어휘집 확인\n",
        "spa_vocab = target_vectorization.get_vocabulary()\n",
        "# (단어 인덱스, 단어)로 구성된 사전 지정\n",
        "spa_index_lookup = dict(zip(range(len(spa_vocab)), spa_vocab))\n",
        "# 텍스트에 포함되는 단어수\n",
        "max_decoded_sentence_length = 20\n",
        "\n",
        "def decode_sequence(input_sentence):\n",
        "    tokenized_input_sentence = source_vectorization([input_sentence])\n",
        "    # 기계 번역 시작\n",
        "    decoded_sentence = \"[start]\"\n",
        "    for i in range(max_decoded_sentence_length):\n",
        "        # 트랜스포머 모델 적용\n",
        "        tokenized_target_sentence = target_vectorization(\n",
        "            [decoded_sentence])[:, :-1]\n",
        "        predictions = transformer(\n",
        "            [tokenized_input_sentence, tokenized_target_sentence])\n",
        "\n",
        "        # i-번째 단어로 사용될 어휘 인덱스 확인\n",
        "        sampled_token_index = np.argmax(predictions[0, i, :])\n",
        "        # i-번째 단어 확인\n",
        "        sampled_token = spa_index_lookup[sampled_token_index]\n",
        "        # 스페인어 입력 텍스트에 i-번째 단어로 추가\n",
        "        decoded_sentence += \" \" + sampled_token\n",
        "        # 기계 번역 종료 조건 확인\n",
        "        if sampled_token == \"[end]\":\n",
        "            break\n",
        "\n",
        "    return decoded_sentence"
      ]
    },
    {
      "cell_type": "markdown",
      "metadata": {
        "id": "Wjro5CiWh_mo"
      },
      "source": [
        "아래 코드는 `decode_sequence()` 함수를 이용하여\n",
        "무작위로 5개의 영어 텍스트를 선택하여 기계 번역한 결과이다."
      ]
    },
    {
      "cell_type": "code",
      "execution_count": null,
      "metadata": {
        "id": "xFJXavRueOZC",
        "outputId": "ca0b8631-40d7-452c-9893-f9689ffacb26",
        "scrolled": false
      },
      "outputs": [],
      "source": [
        "test_eng_texts = [pair[0] for pair in test_pairs]\n",
        "\n",
        "for _ in range(5):\n",
        "    input_sentence = random.choice(test_eng_texts)\n",
        "    print(\"-\")\n",
        "    print(input_sentence)\n",
        "    print(decode_sequence(input_sentence))"
      ]
    }
  ],
  "metadata": {
    "accelerator": "GPU",
    "colab": {
      "provenance": []
    },
    "gpuClass": "standard",
    "kernelspec": {
      "display_name": "Python 3 (ipykernel)",
      "language": "python",
      "name": "python3"
    },
    "language_info": {
      "codemirror_mode": {
        "name": "ipython",
        "version": 3
      },
      "file_extension": ".py",
      "mimetype": "text/x-python",
      "name": "python",
      "nbconvert_exporter": "python",
      "pygments_lexer": "ipython3",
      "version": "3.11.4"
    },
    "vscode": {
      "interpreter": {
        "hash": "6c86b3592b6800d985c04531f2c445f0fa6967131b8dd6395a925f7622e55602"
      }
    }
  },
  "nbformat": 4,
  "nbformat_minor": 0
}
